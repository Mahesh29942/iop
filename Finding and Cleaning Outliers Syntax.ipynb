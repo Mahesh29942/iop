{
 "cells": [
  {
   "cell_type": "code",
   "execution_count": null,
   "id": "86d57db6",
   "metadata": {},
   "outputs": [],
   "source": [
    "import pandas as pd\n",
    "import matplotlib.pyplot as plt\n",
    "\n",
    "# Load the CSV file into a DataFrame\n",
    "data = pd.read_csv('your_data.csv')\n",
    "\n",
    "# Specify the column you want to analyze for outliers\n",
    "column_to_check = 'Your_Column_Name'\n",
    "\n",
    "# Create a box plot to visualize the data\n",
    "plt.figure(figsize=(8, 6))\n",
    "plt.boxplot(data[column_to_check], vert=False)\n",
    "plt.title(f'Box Plot for {column_to_check}')\n",
    "plt.xlabel(column_to_check)\n",
    "plt.show()\n",
    "\n",
    "# Calculate the IQR (Interquartile Range)\n",
    "Q1 = data[column_to_check].quantile(0.25)\n",
    "Q3 = data[column_to_check].quantile(0.75)\n",
    "IQR = Q3 - Q1\n",
    "\n",
    "# Define the lower and upper bounds for outliers\n",
    "lower_bound = Q1 - 1.5 * IQR\n",
    "upper_bound = Q3 + 1.5 * IQR\n",
    "\n",
    "# Identify outliers\n",
    "outliers = data[(data[column_to_check] < lower_bound) | (data[column_to_check] > upper_bound)]\n",
    "\n",
    "# Print the identified outliers\n",
    "print(\"Outliers:\")\n",
    "print(outliers)\n",
    "\n",
    "# Visualize the outliers\n",
    "plt.figure(figsize=(8, 6))\n",
    "plt.scatter(data.index, data[column_to_check], label='Data Points')\n",
    "plt.scatter(outliers.index, outliers[column_to_check], color='red', label='Outliers')\n",
    "plt.title(f'Outliers in {column_to_check}')\n",
    "plt.xlabel('Data Point Index')\n",
    "plt.ylabel(column_to_check)\n",
    "plt.legend()\n",
    "plt.show()\n"
   ]
  }
 ],
 "metadata": {
  "kernelspec": {
   "display_name": "Python 3 (ipykernel)",
   "language": "python",
   "name": "python3"
  },
  "language_info": {
   "codemirror_mode": {
    "name": "ipython",
    "version": 3
   },
   "file_extension": ".py",
   "mimetype": "text/x-python",
   "name": "python",
   "nbconvert_exporter": "python",
   "pygments_lexer": "ipython3",
   "version": "3.11.4"
  }
 },
 "nbformat": 4,
 "nbformat_minor": 5
}
