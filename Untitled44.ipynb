{
 "cells": [
  {
   "cell_type": "code",
   "execution_count": 2,
   "id": "a3431fdb",
   "metadata": {},
   "outputs": [],
   "source": [
    "from sklearn.feature_extraction.text import CountVectorizer"
   ]
  },
  {
   "cell_type": "code",
   "execution_count": 3,
   "id": "8b16a965",
   "metadata": {},
   "outputs": [],
   "source": [
    "# Sample corpus\n",
    "corpus = [\n",
    "    \"This is a simple sentence.\",\n",
    "    \"Another example of a sentence.\",\n",
    "    \"A simple corpus for demonstration.\"\n",
    "]"
   ]
  },
  {
   "cell_type": "code",
   "execution_count": 5,
   "id": "d6eae69c",
   "metadata": {},
   "outputs": [],
   "source": [
    "vectorizer_bigram = CountVectorizer(ngram_range=(2, 2))\n",
    "X_bigram = vectorizer_bigram.fit_transform(corpus)\n",
    "feature_names_bigram = vectorizer_bigram.get_feature_names_out()"
   ]
  },
  {
   "cell_type": "code",
   "execution_count": 7,
   "id": "d6a8af1a",
   "metadata": {},
   "outputs": [],
   "source": [
    "# Create a CountVectorizer for trigrams\n",
    "vectorizer_trigram = CountVectorizer(ngram_range=(3, 3))\n",
    "X_trigram = vectorizer_trigram.fit_transform(corpus)\n",
    "feature_names_trigram = vectorizer_trigram.get_feature_names_out()\n"
   ]
  },
  {
   "cell_type": "code",
   "execution_count": 8,
   "id": "f1c4a9cd",
   "metadata": {},
   "outputs": [
    {
     "name": "stdout",
     "output_type": "stream",
     "text": [
      "Bigrams:\n",
      "[[0 0 0 0 1 0 0 1 1]\n",
      " [1 0 1 0 0 1 0 0 0]\n",
      " [0 1 0 1 0 0 1 0 0]]\n",
      "Feature Names: ['another example' 'corpus for' 'example of' 'for demonstration'\n",
      " 'is simple' 'of sentence' 'simple corpus' 'simple sentence' 'this is']\n"
     ]
    }
   ],
   "source": [
    "print(\"Bigrams:\")\n",
    "print(X_bigram.toarray())\n",
    "print(\"Feature Names:\", feature_names_bigram)"
   ]
  },
  {
   "cell_type": "code",
   "execution_count": 9,
   "id": "a6c385f6",
   "metadata": {},
   "outputs": [
    {
     "name": "stdout",
     "output_type": "stream",
     "text": [
      "\n",
      "Trigrams:\n",
      "[[0 0 0 1 0 1]\n",
      " [1 0 1 0 0 0]\n",
      " [0 1 0 0 1 0]]\n",
      "Feature Names: ['another example of' 'corpus for demonstration' 'example of sentence'\n",
      " 'is simple sentence' 'simple corpus for' 'this is simple']\n"
     ]
    }
   ],
   "source": [
    "print(\"\\nTrigrams:\")\n",
    "print(X_trigram.toarray())\n",
    "print(\"Feature Names:\", feature_names_trigram)"
   ]
  },
  {
   "cell_type": "code",
   "execution_count": null,
   "id": "bc5b3731",
   "metadata": {},
   "outputs": [],
   "source": []
  }
 ],
 "metadata": {
  "kernelspec": {
   "display_name": "Python 3 (ipykernel)",
   "language": "python",
   "name": "python3"
  },
  "language_info": {
   "codemirror_mode": {
    "name": "ipython",
    "version": 3
   },
   "file_extension": ".py",
   "mimetype": "text/x-python",
   "name": "python",
   "nbconvert_exporter": "python",
   "pygments_lexer": "ipython3",
   "version": "3.11.4"
  }
 },
 "nbformat": 4,
 "nbformat_minor": 5
}
