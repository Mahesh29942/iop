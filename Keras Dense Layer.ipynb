{
 "cells": [
  {
   "cell_type": "code",
   "execution_count": 1,
   "id": "daf672a6",
   "metadata": {},
   "outputs": [],
   "source": [
    "import numpy as np\n",
    "input = [ [1, 2], [3, 4] ]\n",
    "kernel = [ [0.5, 0.75], [0.25, 0.5] ]\n",
    "result = np.dot(input, kernel)"
   ]
  },
  {
   "cell_type": "code",
   "execution_count": 2,
   "id": "f9b61906",
   "metadata": {},
   "outputs": [
    {
     "name": "stdout",
     "output_type": "stream",
     "text": [
      "WARNING:tensorflow:From C:\\Users\\mahes\\anaconda3\\Lib\\site-packages\\keras\\src\\losses.py:2976: The name tf.losses.sparse_softmax_cross_entropy is deprecated. Please use tf.compat.v1.losses.sparse_softmax_cross_entropy instead.\n",
      "\n",
      "WARNING:tensorflow:From C:\\Users\\mahes\\anaconda3\\Lib\\site-packages\\keras\\src\\backend.py:873: The name tf.get_default_graph is deprecated. Please use tf.compat.v1.get_default_graph instead.\n",
      "\n"
     ]
    },
    {
     "data": {
      "text/plain": [
       "(None, 8)"
      ]
     },
     "execution_count": 2,
     "metadata": {},
     "output_type": "execute_result"
    }
   ],
   "source": [
    "from keras.models import Sequential\n",
    "from keras.layers import Activation, Dense\n",
    "model = Sequential()\n",
    "layer_1 = Dense(16, input_shape = (8,))\n",
    "model.add(layer_1)\n",
    "layer_1.input_shape\n",
    "(None, 8)"
   ]
  },
  {
   "cell_type": "code",
   "execution_count": 3,
   "id": "1c9e65fa",
   "metadata": {},
   "outputs": [
    {
     "name": "stdout",
     "output_type": "stream",
     "text": [
      "(None, 32)\n",
      "<bound method Layer.compute_output_signature of <keras.src.engine.sequential.Sequential object at 0x000001EF25EA1B50>>\n"
     ]
    }
   ],
   "source": [
    "import tensorflow\n",
    "model = tensorflow.keras.models.Sequential()\n",
    "model.add(tensorflow.keras.Input(shape=(16,)))\n",
    "model.add(tensorflow.keras.layers.Dense(32, activation='relu'))\n",
    "print(model.output_shape)\n",
    "print(model.compute_output_signature)"
   ]
  },
  {
   "cell_type": "code",
   "execution_count": 6,
   "id": "7d31687a",
   "metadata": {},
   "outputs": [
    {
     "name": "stdout",
     "output_type": "stream",
     "text": [
      "(None, 32)\n",
      "[<keras.src.layers.core.dense.Dense object at 0x000001EF33152150>, <keras.src.layers.core.dense.Dense object at 0x000001EF33237790>]\n",
      "<bound method Layer.compute_output_signature of <keras.src.engine.sequential.Sequential object at 0x000001EF3465B5D0>>\n"
     ]
    }
   ],
   "source": [
    "model1 = tensorflow.keras.models.Sequential()\n",
    "model1.add(tensorflow.keras.Input(shape=(16,)))\n",
    "model1.add(tensorflow.keras.layers.Dense(32, activation='relu'))\n",
    "model1.add(tensorflow.keras.layers.Dense(32))\n",
    "print(model1.output_shape)\n",
    "print(model1.layers)\n",
    "print(model1.compute_output_signature)"
   ]
  },
  {
   "cell_type": "code",
   "execution_count": 9,
   "id": "c8667f1d",
   "metadata": {},
   "outputs": [],
   "source": [
    "import pandas as pd\n",
    "from sklearn.preprocessing import LabelEncoder\n",
    "\n",
    "data = pd.DataFrame({\n",
    "    'gender': ['Male', 'Female', 'Male', 'Female', 'Female'],\n",
    "    'class': ['A', 'B', 'C', 'D', 'A'],\n",
    "    'city': ['Delhi', 'Gurugram', 'Delhi', 'Delhi', 'Gurugram']\n",
    "})\n",
    "\n",
    "le = LabelEncoder()\n",
    "le_class = le.fit_transform(data[\"class\"])\n"
   ]
  },
  {
   "cell_type": "code",
   "execution_count": 10,
   "id": "333da769",
   "metadata": {},
   "outputs": [
    {
     "data": {
      "text/html": [
       "<div>\n",
       "<style scoped>\n",
       "    .dataframe tbody tr th:only-of-type {\n",
       "        vertical-align: middle;\n",
       "    }\n",
       "\n",
       "    .dataframe tbody tr th {\n",
       "        vertical-align: top;\n",
       "    }\n",
       "\n",
       "    .dataframe thead th {\n",
       "        text-align: right;\n",
       "    }\n",
       "</style>\n",
       "<table border=\"1\" class=\"dataframe\">\n",
       "  <thead>\n",
       "    <tr style=\"text-align: right;\">\n",
       "      <th></th>\n",
       "      <th>gender</th>\n",
       "      <th>class</th>\n",
       "      <th>city</th>\n",
       "    </tr>\n",
       "  </thead>\n",
       "  <tbody>\n",
       "    <tr>\n",
       "      <th>0</th>\n",
       "      <td>Male</td>\n",
       "      <td>A</td>\n",
       "      <td>Delhi</td>\n",
       "    </tr>\n",
       "    <tr>\n",
       "      <th>1</th>\n",
       "      <td>Female</td>\n",
       "      <td>B</td>\n",
       "      <td>Gurugram</td>\n",
       "    </tr>\n",
       "    <tr>\n",
       "      <th>2</th>\n",
       "      <td>Male</td>\n",
       "      <td>C</td>\n",
       "      <td>Delhi</td>\n",
       "    </tr>\n",
       "    <tr>\n",
       "      <th>3</th>\n",
       "      <td>Female</td>\n",
       "      <td>D</td>\n",
       "      <td>Delhi</td>\n",
       "    </tr>\n",
       "    <tr>\n",
       "      <th>4</th>\n",
       "      <td>Female</td>\n",
       "      <td>A</td>\n",
       "      <td>Gurugram</td>\n",
       "    </tr>\n",
       "  </tbody>\n",
       "</table>\n",
       "</div>"
      ],
      "text/plain": [
       "   gender class      city\n",
       "0    Male     A     Delhi\n",
       "1  Female     B  Gurugram\n",
       "2    Male     C     Delhi\n",
       "3  Female     D     Delhi\n",
       "4  Female     A  Gurugram"
      ]
     },
     "execution_count": 10,
     "metadata": {},
     "output_type": "execute_result"
    }
   ],
   "source": [
    "data"
   ]
  },
  {
   "cell_type": "code",
   "execution_count": null,
   "id": "f38fecd4",
   "metadata": {},
   "outputs": [],
   "source": []
  }
 ],
 "metadata": {
  "kernelspec": {
   "display_name": "Python 3 (ipykernel)",
   "language": "python",
   "name": "python3"
  },
  "language_info": {
   "codemirror_mode": {
    "name": "ipython",
    "version": 3
   },
   "file_extension": ".py",
   "mimetype": "text/x-python",
   "name": "python",
   "nbconvert_exporter": "python",
   "pygments_lexer": "ipython3",
   "version": "3.11.4"
  }
 },
 "nbformat": 4,
 "nbformat_minor": 5
}
