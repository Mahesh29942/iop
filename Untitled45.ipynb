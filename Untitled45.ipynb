{
 "cells": [
  {
   "cell_type": "code",
   "execution_count": 1,
   "id": "ea63ad21",
   "metadata": {},
   "outputs": [],
   "source": [
    "from sklearn.feature_extraction.text import CountVectorizer"
   ]
  },
  {
   "cell_type": "code",
   "execution_count": 2,
   "id": "05dadeda",
   "metadata": {},
   "outputs": [],
   "source": [
    "corpus = [\n",
    "    \"This is a simple sentence.\",\n",
    "    \"Another example of a sentence.\",\n",
    "    \"A simple corpus for demonstration.\"\n",
    "]"
   ]
  },
  {
   "cell_type": "code",
   "execution_count": 3,
   "id": "c8411046",
   "metadata": {},
   "outputs": [],
   "source": [
    "vectorizer_bigram = CountVectorizer(ngram_range=(2, 2))\n",
    "X_bigram = vectorizer_bigram.fit_transform(corpus)\n",
    "feature_names_bigram = vectorizer_bigram.get_feature_names_out()"
   ]
  },
  {
   "cell_type": "code",
   "execution_count": 5,
   "id": "9537fc41",
   "metadata": {},
   "outputs": [],
   "source": [
    "vectorizer_trigram = CountVectorizer(ngram_range=(3, 3))\n",
    "X_trigram = vectorizer_trigram.fit_transform(corpus)\n",
    "feature_names_trigram = vectorizer_trigram.get_feature_names_out()"
   ]
  },
  {
   "cell_type": "code",
   "execution_count": 6,
   "id": "148b3ef5",
   "metadata": {},
   "outputs": [
    {
     "name": "stdout",
     "output_type": "stream",
     "text": [
      "Bigrams:\n",
      "[[0 0 0 0 1 0 0 1 1]\n",
      " [1 0 1 0 0 1 0 0 0]\n",
      " [0 1 0 1 0 0 1 0 0]]\n",
      "Feature Names: ['another example' 'corpus for' 'example of' 'for demonstration'\n",
      " 'is simple' 'of sentence' 'simple corpus' 'simple sentence' 'this is']\n"
     ]
    }
   ],
   "source": [
    "print(\"Bigrams:\")\n",
    "print(X_bigram.toarray())\n",
    "print(\"Feature Names:\", feature_names_bigram)"
   ]
  },
  {
   "cell_type": "code",
   "execution_count": null,
   "id": "5470904c",
   "metadata": {},
   "outputs": [],
   "source": []
  }
 ],
 "metadata": {
  "kernelspec": {
   "display_name": "Python 3 (ipykernel)",
   "language": "python",
   "name": "python3"
  },
  "language_info": {
   "codemirror_mode": {
    "name": "ipython",
    "version": 3
   },
   "file_extension": ".py",
   "mimetype": "text/x-python",
   "name": "python",
   "nbconvert_exporter": "python",
   "pygments_lexer": "ipython3",
   "version": "3.11.4"
  }
 },
 "nbformat": 4,
 "nbformat_minor": 5
}
