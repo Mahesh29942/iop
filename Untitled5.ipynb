{
 "cells": [
  {
   "cell_type": "code",
   "execution_count": 11,
   "id": "09be4898",
   "metadata": {},
   "outputs": [
    {
     "name": "stdout",
     "output_type": "stream",
     "text": [
      "Confusion Matrix:\n",
      "[[2 1 0]\n",
      " [0 3 0]\n",
      " [1 0 2]]\n",
      "\n",
      "Classification Metrics:\n",
      "Accuracy: 0.78\n",
      "Class: dog\n",
      "Precision: 0.75\n",
      "Recall: 1.00\n",
      "F1 Score: 0.86\n",
      "\n",
      "Class: cat\n",
      "Precision: 0.67\n",
      "Recall: 0.67\n",
      "F1 Score: 0.67\n",
      "\n",
      "Class: lion\n",
      "Precision: 1.00\n",
      "Recall: 0.67\n",
      "F1 Score: 0.80\n",
      "\n"
     ]
    }
   ],
   "source": [
    "from sklearn.metrics import confusion_matrix, accuracy_score, precision_score, recall_score, f1_score\n",
    "import numpy as np\n",
    "\n",
    "true_labels = np.array(['dog', 'cat', 'lion', 'dog', 'lion', 'cat', 'cat', 'dog', 'lion'])\n",
    "predicted_labels = np.array(['dog', 'cat', 'lion', 'cat', 'dog', 'cat', 'cat', 'dog', 'lion'])\n",
    "\n",
    "class_labels = ['dog', 'cat', 'lion']\n",
    "\n",
    "cm = confusion_matrix(true_labels, predicted_labels, labels=class_labels)\n",
    "\n",
    "print(\"Confusion Matrix:\")\n",
    "print(cm)\n",
    "accuracy = accuracy_score(true_labels, predicted_labels)\n",
    "precision = precision_score(true_labels, predicted_labels, average=None)\n",
    "recall = recall_score(true_labels, predicted_labels, average=None)\n",
    "f1 = f1_score(true_labels, predicted_labels, average=None)\n",
    "\n",
    "print(\"\\nClassification Metrics:\")\n",
    "print(f\"Accuracy: {accuracy:.2f}\")\n",
    "for i, label in enumerate(class_labels):\n",
    "    print(f\"Class: {label}\")\n",
    "    print(f\"Precision: {precision[i]:.2f}\")\n",
    "    print(f\"Recall: {recall[i]:.2f}\")\n",
    "    print(f\"F1 Score: {f1[i]:.2f}\")\n",
    "    print()\n"
   ]
  },
  {
   "cell_type": "code",
   "execution_count": null,
   "id": "8fb6604e",
   "metadata": {},
   "outputs": [],
   "source": []
  },
  {
   "cell_type": "code",
   "execution_count": null,
   "id": "8a17ee80",
   "metadata": {},
   "outputs": [],
   "source": []
  }
 ],
 "metadata": {
  "kernelspec": {
   "display_name": "Python 3 (ipykernel)",
   "language": "python",
   "name": "python3"
  },
  "language_info": {
   "codemirror_mode": {
    "name": "ipython",
    "version": 3
   },
   "file_extension": ".py",
   "mimetype": "text/x-python",
   "name": "python",
   "nbconvert_exporter": "python",
   "pygments_lexer": "ipython3",
   "version": "3.11.4"
  }
 },
 "nbformat": 4,
 "nbformat_minor": 5
}
